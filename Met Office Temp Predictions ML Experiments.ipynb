{
 "cells": [
  {
   "cell_type": "markdown",
   "id": "effea997",
   "metadata": {},
   "source": [
    "### Import libraries"
   ]
  },
  {
   "cell_type": "code",
   "execution_count": 1,
   "id": "2fbfffa4",
   "metadata": {},
   "outputs": [],
   "source": [
    "import pandas as pd\n",
    "from sklearn.model_selection import train_test_split\n",
    "from sklearn.metrics import mean_absolute_error\n",
    "from sklearn.pipeline import make_pipeline\n",
    "from sklearn.preprocessing import StandardScaler\n",
    "from sklearn.linear_model import LinearRegression\n",
    "from sklearn.ensemble import RandomForestRegressor\n",
    "from sklearn.feature_selection import SelectKBest\n",
    "from sklearn.model_selection import cross_val_score\n"
   ]
  },
  {
   "cell_type": "markdown",
   "id": "677d1729",
   "metadata": {},
   "source": [
    "### Open weather_df in this notebook"
   ]
  },
  {
   "cell_type": "code",
   "execution_count": 2,
   "id": "a8abcd05",
   "metadata": {},
   "outputs": [
    {
     "data": {
      "text/html": [
       "<div>\n",
       "<style scoped>\n",
       "    .dataframe tbody tr th:only-of-type {\n",
       "        vertical-align: middle;\n",
       "    }\n",
       "\n",
       "    .dataframe tbody tr th {\n",
       "        vertical-align: top;\n",
       "    }\n",
       "\n",
       "    .dataframe thead th {\n",
       "        text-align: right;\n",
       "    }\n",
       "</style>\n",
       "<table border=\"1\" class=\"dataframe\">\n",
       "  <thead>\n",
       "    <tr style=\"text-align: right;\">\n",
       "      <th></th>\n",
       "      <th>year</th>\n",
       "      <th>month</th>\n",
       "      <th>tmin</th>\n",
       "      <th>tmax</th>\n",
       "      <th>rain</th>\n",
       "      <th>tmean</th>\n",
       "    </tr>\n",
       "  </thead>\n",
       "  <tbody>\n",
       "    <tr>\n",
       "      <th>0</th>\n",
       "      <td>1948</td>\n",
       "      <td>1</td>\n",
       "      <td>3.3</td>\n",
       "      <td>8.9</td>\n",
       "      <td>85.0</td>\n",
       "      <td>6.10</td>\n",
       "    </tr>\n",
       "    <tr>\n",
       "      <th>1</th>\n",
       "      <td>1948</td>\n",
       "      <td>2</td>\n",
       "      <td>2.2</td>\n",
       "      <td>7.9</td>\n",
       "      <td>26.0</td>\n",
       "      <td>5.05</td>\n",
       "    </tr>\n",
       "    <tr>\n",
       "      <th>2</th>\n",
       "      <td>1948</td>\n",
       "      <td>3</td>\n",
       "      <td>3.8</td>\n",
       "      <td>14.2</td>\n",
       "      <td>14.0</td>\n",
       "      <td>9.00</td>\n",
       "    </tr>\n",
       "    <tr>\n",
       "      <th>3</th>\n",
       "      <td>1948</td>\n",
       "      <td>4</td>\n",
       "      <td>5.1</td>\n",
       "      <td>15.4</td>\n",
       "      <td>35.0</td>\n",
       "      <td>10.25</td>\n",
       "    </tr>\n",
       "    <tr>\n",
       "      <th>4</th>\n",
       "      <td>1948</td>\n",
       "      <td>5</td>\n",
       "      <td>6.9</td>\n",
       "      <td>18.1</td>\n",
       "      <td>57.0</td>\n",
       "      <td>12.50</td>\n",
       "    </tr>\n",
       "    <tr>\n",
       "      <th>...</th>\n",
       "      <td>...</td>\n",
       "      <td>...</td>\n",
       "      <td>...</td>\n",
       "      <td>...</td>\n",
       "      <td>...</td>\n",
       "      <td>...</td>\n",
       "    </tr>\n",
       "    <tr>\n",
       "      <th>865</th>\n",
       "      <td>2020</td>\n",
       "      <td>2</td>\n",
       "      <td>4.3</td>\n",
       "      <td>11.1</td>\n",
       "      <td>99.8</td>\n",
       "      <td>7.70</td>\n",
       "    </tr>\n",
       "    <tr>\n",
       "      <th>866</th>\n",
       "      <td>2020</td>\n",
       "      <td>3</td>\n",
       "      <td>3.9</td>\n",
       "      <td>12.0</td>\n",
       "      <td>42.8</td>\n",
       "      <td>7.95</td>\n",
       "    </tr>\n",
       "    <tr>\n",
       "      <th>867</th>\n",
       "      <td>2020</td>\n",
       "      <td>4</td>\n",
       "      <td>6.5</td>\n",
       "      <td>18.2</td>\n",
       "      <td>38.2</td>\n",
       "      <td>12.35</td>\n",
       "    </tr>\n",
       "    <tr>\n",
       "      <th>868</th>\n",
       "      <td>2020</td>\n",
       "      <td>5</td>\n",
       "      <td>9.1</td>\n",
       "      <td>21.1</td>\n",
       "      <td>2.0</td>\n",
       "      <td>15.10</td>\n",
       "    </tr>\n",
       "    <tr>\n",
       "      <th>869</th>\n",
       "      <td>2020</td>\n",
       "      <td>6</td>\n",
       "      <td>12.6</td>\n",
       "      <td>22.5</td>\n",
       "      <td>54.0</td>\n",
       "      <td>17.55</td>\n",
       "    </tr>\n",
       "  </tbody>\n",
       "</table>\n",
       "<p>870 rows × 6 columns</p>\n",
       "</div>"
      ],
      "text/plain": [
       "     year  month  tmin  tmax  rain  tmean\n",
       "0    1948      1   3.3   8.9  85.0   6.10\n",
       "1    1948      2   2.2   7.9  26.0   5.05\n",
       "2    1948      3   3.8  14.2  14.0   9.00\n",
       "3    1948      4   5.1  15.4  35.0  10.25\n",
       "4    1948      5   6.9  18.1  57.0  12.50\n",
       "..    ...    ...   ...   ...   ...    ...\n",
       "865  2020      2   4.3  11.1  99.8   7.70\n",
       "866  2020      3   3.9  12.0  42.8   7.95\n",
       "867  2020      4   6.5  18.2  38.2  12.35\n",
       "868  2020      5   9.1  21.1   2.0  15.10\n",
       "869  2020      6  12.6  22.5  54.0  17.55\n",
       "\n",
       "[870 rows x 6 columns]"
      ]
     },
     "execution_count": 2,
     "metadata": {},
     "output_type": "execute_result"
    }
   ],
   "source": [
    "# Call stored weather_df \n",
    "%store -r weather_df\n",
    "\n",
    "# View\n",
    "weather_df"
   ]
  },
  {
   "cell_type": "markdown",
   "id": "115e7a59",
   "metadata": {},
   "source": [
    "### Split data into train and test sets "
   ]
  },
  {
   "cell_type": "code",
   "execution_count": 3,
   "id": "4ea5a5dc",
   "metadata": {},
   "outputs": [
    {
     "name": "stdout",
     "output_type": "stream",
     "text": [
      "(696,)\n",
      "(174,)\n",
      "(696, 3)\n",
      "(174, 3)\n"
     ]
    }
   ],
   "source": [
    "# Set the target variable (tmean) and feature variables (rain, tmin, tmax).\n",
    "\n",
    "target = 'tmean'\n",
    "Y = weather_df['tmean']\n",
    "\n",
    "X = weather_df[['tmin', 'tmax', 'rain']]\n",
    "\n",
    "# Split dataset into training and testing sets. \n",
    "# Using a testing set of 20% and training set of 80%.\n",
    "# Using random state to obtain consistent results acorss different code runs\n",
    "# to maintain reproducibility.\n",
    "\n",
    "X_train, X_test, Y_train, Y_test = train_test_split(X, Y,\n",
    "                                                 test_size = 0.20,\n",
    "                                                 random_state = 42)\n",
    "\n",
    "print(Y_train.shape)\n",
    "print(Y_test.shape)\n",
    "print(X_train.shape)\n",
    "print(X_test.shape)\n",
    "\n",
    "# Looks like the data has been 20/80 split and has the correct number of variables."
   ]
  },
  {
   "cell_type": "markdown",
   "id": "faa5e22a",
   "metadata": {},
   "source": [
    "### Establish Baseline MAE"
   ]
  },
  {
   "cell_type": "code",
   "execution_count": 4,
   "id": "4217cb7b",
   "metadata": {},
   "outputs": [
    {
     "name": "stdout",
     "output_type": "stream",
     "text": [
      "Baseline MAE:  4.51086\n"
     ]
    }
   ],
   "source": [
    "# Need to establish a baseline to try and beat with our models using MAE.\n",
    "# Assumes that the average tmean over all the years (1948-2020)\n",
    "# is a reasonable estimate of mean temp in current year.\n",
    "\n",
    "y_pred = [Y_train.mean()] * len(Y_train)\n",
    "print('Baseline MAE: ', round (mean_absolute_error(Y_train, y_pred), 5))\n",
    "\n",
    "# As MAE shows difference between actual and predicted values, the lower the better.\n",
    "# the MAE of 4.51086 is............"
   ]
  },
  {
   "cell_type": "markdown",
   "id": "ad61f40d",
   "metadata": {},
   "source": [
    "### Create Pipeline for Linear Regression Model"
   ]
  },
  {
   "cell_type": "code",
   "execution_count": 8,
   "id": "6ed61b12",
   "metadata": {},
   "outputs": [
    {
     "name": "stdout",
     "output_type": "stream",
     "text": [
      "Linear Regression Training MAE: 0.0\n",
      "Linear Regression Test MAE: 0.0\n"
     ]
    }
   ],
   "source": [
    "# Create pipeline for linear regression model\n",
    "# Apply standard scaler\n",
    "\n",
    "lm = make_pipeline(\n",
    "    StandardScaler(),\n",
    "    LinearRegression(),\n",
    "    )\n",
    "\n",
    "# Fit model to data\n",
    "lm.fit(X_train, Y_train)\n",
    "\n",
    "# Quick view of the perfromance \n",
    "print('Linear Regression Training MAE:', round(mean_absolute_error(Y_train, lm.predict(X_train)), 5))\n",
    "print('Linear Regression Test MAE:', round(mean_absolute_error(Y_test, lm.predict(X_test)), 5))"
   ]
  },
  {
   "cell_type": "markdown",
   "id": "dca8d43f",
   "metadata": {},
   "source": [
    "### Create Pipeline for Random Forest Regressor Model"
   ]
  },
  {
   "cell_type": "code",
   "execution_count": 10,
   "id": "cb88737b",
   "metadata": {},
   "outputs": [
    {
     "name": "stdout",
     "output_type": "stream",
     "text": [
      "Random Forest Regressor Training MAE: 0.02895\n",
      "Random Forest Regressor  Test MAE: 0.0698\n"
     ]
    }
   ],
   "source": [
    "# Create pipeline for Random Forest Regressor model\n",
    "# Apply standard scaler\n",
    "# Start with 100 n_estimators (num of trees) \n",
    "# and max_depth of 50 (depth of each tree/how much info captured)\n",
    "\n",
    "rf = make_pipeline(\n",
    "    SelectKBest(k='all'),\n",
    "    StandardScaler(),\n",
    "    RandomForestRegressor(n_estimators = 100,\n",
    "                         max_depth = 50),\n",
    "    )\n",
    "\n",
    "# Fit model to data\n",
    "rf.fit(X_train, Y_train)\n",
    "\n",
    "# Quick view of the perfromance \n",
    "print('Random Forest Regressor Training MAE:', round(mean_absolute_error(Y_train, rf.predict(X_train)), 5))\n",
    "print('Random Forest Regressor  Test MAE:', round(mean_absolute_error(Y_test, rf.predict(X_test)), 5))"
   ]
  },
  {
   "cell_type": "code",
   "execution_count": null,
   "id": "6d4bdee3",
   "metadata": {},
   "outputs": [],
   "source": []
  }
 ],
 "metadata": {
  "kernelspec": {
   "display_name": "Python 3 (ipykernel)",
   "language": "python",
   "name": "python3"
  },
  "language_info": {
   "codemirror_mode": {
    "name": "ipython",
    "version": 3
   },
   "file_extension": ".py",
   "mimetype": "text/x-python",
   "name": "python",
   "nbconvert_exporter": "python",
   "pygments_lexer": "ipython3",
   "version": "3.10.9"
  }
 },
 "nbformat": 4,
 "nbformat_minor": 5
}
